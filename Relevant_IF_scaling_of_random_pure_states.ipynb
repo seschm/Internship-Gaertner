{
  "nbformat": 4,
  "nbformat_minor": 0,
  "metadata": {
    "colab": {
      "provenance": [],
      "authorship_tag": "ABX9TyOhR9O1QXEgvMgzaEzL5t0z",
      "include_colab_link": true
    },
    "kernelspec": {
      "name": "python3",
      "display_name": "Python 3"
    },
    "language_info": {
      "name": "python"
    }
  },
  "cells": [
    {
      "cell_type": "markdown",
      "metadata": {
        "id": "view-in-github",
        "colab_type": "text"
      },
      "source": [
        "<a href=\"https://colab.research.google.com/github/seschm/Internship-Gaertner/blob/main/Relevant_IF_scaling_of_random_pure_states.ipynb\" target=\"_parent\"><img src=\"https://colab.research.google.com/assets/colab-badge.svg\" alt=\"Open In Colab\"/></a>"
      ]
    },
    {
      "cell_type": "code",
      "execution_count": null,
      "metadata": {
        "id": "Ce7LpV1QNLh7"
      },
      "outputs": [],
      "source": [
        "import jax\n",
        "import jax.numpy as jnp\n",
        "import jax.scipy as jsp\n",
        "from jax import jit, vmap, pmap, grad\n",
        "from jax import random\n",
        "import flax\n",
        "from flax import linen as nn\n",
        "from flax.training import train_state\n",
        "import optax\n",
        "import torch.utils.data as data\n",
        "from functools import partial\n",
        "\n",
        "import itertools\n",
        "\n",
        "from tqdm.auto import tqdm\n",
        "import random as rng\n",
        "\n",
        "import numpy as np\n",
        "import scipy as sp\n",
        "from numpy import sqrt, cos, sin, exp, pi, log2\n",
        "import matplotlib.pyplot as plt\n",
        "%matplotlib inline\n",
        "import matplotlib.pyplot as plt\n",
        "from scipy.stats import unitary_group\n",
        "from scipy.stats import norm"
      ]
    },
    {
      "cell_type": "code",
      "source": [
        "def generate_single_qubit(theta,phi):\n",
        "    \"\"\"\n",
        "    Generates single qubit out of the given angles theta and phi.\n",
        "    First construct the single qubit state as an array of shape (2, 1).\n",
        "    Then compute the matrixproduct with its adjoint state.\n",
        "    \"\"\"\n",
        "    state = np.array([[cos(theta/2)],[sin(theta/2)*exp(phi*1.j)]])\n",
        "    return state@state.conj().T"
      ],
      "metadata": {
        "id": "EzKryVhANU9D"
      },
      "execution_count": null,
      "outputs": []
    },
    {
      "cell_type": "code",
      "source": [
        "def generate_random_pure_state(nQubit):\n",
        "    \"\"\"\n",
        "    Generates Haar random pure state.\n",
        "    To generate a random pure state, take any basis state, e.g. |00...00>\n",
        "    and apply a random unitary matrix. For consistency each basis state should be the same.\n",
        "    \"\"\"\n",
        "    baseRho=np.zeros((2**nQubit,2**nQubit),dtype=complex)\n",
        "    baseRho[0,0]=1\n",
        "    U=unitary_group.rvs(2**nQubit)\n",
        "    return U@baseRho@U.conj().T"
      ],
      "metadata": {
        "id": "MhKiGtv-OnSu"
      },
      "execution_count": null,
      "outputs": []
    },
    {
      "cell_type": "code",
      "source": [
        "def generate_random_seperable_pure_state(nQubit):\n",
        "    \"\"\"\n",
        "    Generates random seperable pure state.\n",
        "    First generate the desired number of random pure states.\n",
        "    Then tensor them together.\n",
        "    \"\"\"\n",
        "    single_qubits = []\n",
        "    for i in range(0,nQubit):\n",
        "        single_qubits.append(generate_random_pure_state(1))\n",
        "    tensored_qubits = [single_qubits[0]]\n",
        "    for i in range(1,nQubit):\n",
        "        tensored_qubits.append(np.kron(tensored_qubits[-1],single_qubits[i]))\n",
        "    return tensored_qubits[-1]"
      ],
      "metadata": {
        "id": "mIN1Xn1bNYSZ"
      },
      "execution_count": null,
      "outputs": []
    },
    {
      "cell_type": "code",
      "source": [
        "def depolarizing_channel(state,p):\n",
        "    \"\"\"\n",
        "    Applies a depolarizing channel to the given state with p the probability of the completely mixed state.\n",
        "    \"\"\"\n",
        "    d=len(state[0])\n",
        "    return p*np.eye(d)/d+(1-p)*state"
      ],
      "metadata": {
        "id": "xswuTD0kNbAm"
      },
      "execution_count": null,
      "outputs": []
    },
    {
      "cell_type": "code",
      "source": [
        "nQubit = 1\n",
        "infidelity_list = []\n",
        "state1 = generate_random_seperable_pure_state(nQubit)\n",
        "\n",
        "for i in range(0,10000):\n",
        "  state2 += generate_random_seperable_pure_state(nQubit)\n",
        "\n",
        "\n",
        "matrix_product = np.einsum('jk,kl->jl',state1,state2)\n",
        "infidelity = 1-np.trace(matrix_product)\n",
        "infidelity_list.append(infidelity)\n",
        "\n",
        "print(np.mean(infidelity_list))"
      ],
      "metadata": {
        "colab": {
          "base_uri": "https://localhost:8080/"
        },
        "id": "0fI3u3vKNmoa",
        "outputId": "ecd0baf7-e778-4b2f-fe41-23919fc4cf47"
      },
      "execution_count": null,
      "outputs": [
        {
          "output_type": "stream",
          "name": "stdout",
          "text": [
            "(0.5003685942181664+0j)\n"
          ]
        }
      ]
    },
    {
      "cell_type": "code",
      "source": [
        "nQubit = 8\n",
        "infidelity_list = []\n",
        "state1 = generate_random_pure_state(nQubit)\n",
        "state2 = np.zeros(shape=np.shape(state1),dtype=complex)\n",
        "\n",
        "for i in range(0,100):\n",
        "  state2 += generate_random_pure_state(nQubit)\n",
        "\n",
        "state2 *= 1/100\n",
        "print(np.diag(state2))\n",
        "matrix_product = np.einsum('jk,kl->jl',state1,state2)\n",
        "infidelity = 1-np.trace(matrix_product)\n",
        "infidelity_list.append(infidelity)\n",
        "\n",
        "print(np.mean(infidelity_list))"
      ],
      "metadata": {
        "colab": {
          "base_uri": "https://localhost:8080/"
        },
        "id": "PxInu6BgPoct",
        "outputId": "221543b3-3818-4583-aa67-a5928988e5f7"
      },
      "execution_count": null,
      "outputs": [
        {
          "output_type": "stream",
          "name": "stdout",
          "text": [
            "[0.00402641+1.95109173e-21j 0.00404804+7.98734960e-21j\n",
            " 0.00427524+1.41084874e-20j 0.0043725 -8.68568935e-21j\n",
            " 0.00386226+3.08336516e-21j 0.00434901+5.22736362e-21j\n",
            " 0.00375711+3.00987937e-21j 0.00327108-6.17005333e-21j\n",
            " 0.0040821 -3.20222774e-21j 0.0042218 +1.14506741e-20j\n",
            " 0.00398662+9.41561536e-23j 0.00409454-1.32562454e-20j\n",
            " 0.00404348-1.74727561e-21j 0.00461889-1.98022531e-22j\n",
            " 0.00353041-3.07416470e-22j 0.00363805+1.62543673e-20j\n",
            " 0.00364551-1.02026304e-21j 0.0037667 +6.09056017e-21j\n",
            " 0.00402587-1.32339406e-20j 0.00370073+1.39065670e-22j\n",
            " 0.00432483+5.03879638e-22j 0.00416364-1.97944292e-20j\n",
            " 0.00455519-1.92500999e-21j 0.00430923+1.35976044e-20j\n",
            " 0.00440837+3.89059091e-21j 0.00431832-5.68083368e-21j\n",
            " 0.00338046+1.38801253e-20j 0.00419987+3.35178116e-21j\n",
            " 0.00396143-7.11762418e-21j 0.00358697+1.22715020e-20j\n",
            " 0.00398815-5.63163902e-21j 0.00414796-1.44680028e-20j\n",
            " 0.00435624+8.24667724e-21j 0.00390529+1.68922401e-20j\n",
            " 0.00385461+1.49705252e-21j 0.00375482-1.54018552e-20j\n",
            " 0.00413854+1.22363144e-20j 0.00360359-1.09295014e-21j\n",
            " 0.00446257-4.58870817e-21j 0.00380921-8.02741865e-21j\n",
            " 0.00486919+1.08965152e-20j 0.00430094+1.22422835e-20j\n",
            " 0.0046283 -9.86887755e-22j 0.00373652+9.54848913e-21j\n",
            " 0.00335526-4.91474029e-21j 0.0044063 +1.92663567e-22j\n",
            " 0.00346386-1.55759679e-20j 0.00397738-3.44778268e-21j\n",
            " 0.0035394 +6.91843993e-22j 0.0043632 -5.97007622e-23j\n",
            " 0.00413536-4.40432449e-21j 0.00384815+6.43277988e-21j\n",
            " 0.00345062+5.89901174e-21j 0.00382639-1.82652050e-20j\n",
            " 0.00397739-1.01042814e-20j 0.00378815-8.40458264e-21j\n",
            " 0.00401827+1.60967415e-20j 0.00392928+2.64090274e-20j\n",
            " 0.00363244-8.73224698e-21j 0.00401127-5.67571351e-21j\n",
            " 0.0042751 +0.00000000e+00j 0.00400703+0.00000000e+00j\n",
            " 0.00351426+0.00000000e+00j 0.00388336+0.00000000e+00j\n",
            " 0.00425265+1.13024727e-20j 0.00404951-8.97304949e-21j\n",
            " 0.00445222-5.36792004e-21j 0.00346753-3.01000830e-22j\n",
            " 0.00408619+3.18244432e-21j 0.0037439 -3.58774497e-21j\n",
            " 0.00348515+1.01776093e-20j 0.00444822-2.16618120e-20j\n",
            " 0.00330111+8.22616273e-21j 0.00456233-4.84624476e-21j\n",
            " 0.00383579-5.92829774e-21j 0.0039373 -7.47491868e-21j\n",
            " 0.00427389+7.47265373e-21j 0.00377022-2.27857511e-20j\n",
            " 0.00371642+5.43522484e-22j 0.00343403-1.08347769e-20j\n",
            " 0.00384558-1.20800412e-20j 0.00393284-2.12583815e-21j\n",
            " 0.00390355-1.27342895e-21j 0.00407699-2.52413712e-21j\n",
            " 0.00430847+1.01730619e-20j 0.00373415+6.64297601e-21j\n",
            " 0.00387547-1.14696598e-20j 0.00334415+1.24670878e-20j\n",
            " 0.00365239+2.45690159e-21j 0.00399957-1.09166420e-20j\n",
            " 0.0041408 +2.03135265e-20j 0.00375522+5.23954104e-21j\n",
            " 0.00359102-1.80711820e-20j 0.00334943+5.03764875e-21j\n",
            " 0.00384427+4.17272800e-21j 0.004221  -2.47362400e-21j\n",
            " 0.00398833+2.46275600e-21j 0.0029922 +6.91681241e-23j\n",
            " 0.00500532+1.28739412e-20j 0.00383297+1.00516984e-20j\n",
            " 0.00410558-4.14158664e-21j 0.00354763+1.05533933e-20j\n",
            " 0.00367535-3.48451935e-21j 0.00387607-1.58385055e-21j\n",
            " 0.00345612+4.71039226e-21j 0.00397931-2.68046461e-21j\n",
            " 0.00434963-6.58632958e-21j 0.00421571+1.08268856e-21j\n",
            " 0.00390142+8.83935763e-21j 0.00327087+7.85476812e-22j\n",
            " 0.00378223-1.09909608e-20j 0.00339641+1.17515650e-20j\n",
            " 0.0047843 -6.43218177e-21j 0.00360011+8.22293119e-21j\n",
            " 0.00377256-5.29835597e-21j 0.00430637+2.58950754e-21j\n",
            " 0.00359533-1.00900721e-20j 0.00391326-3.27133760e-21j\n",
            " 0.00394883+1.85824619e-20j 0.00379915+5.21616687e-21j\n",
            " 0.00367363-4.14362883e-21j 0.00366462-7.76829958e-21j\n",
            " 0.00387187-1.40915953e-22j 0.00308209-4.99910638e-21j\n",
            " 0.00415413+0.00000000e+00j 0.00409931+0.00000000e+00j\n",
            " 0.0037474 +0.00000000e+00j 0.00474491+0.00000000e+00j\n",
            " 0.0038454 +9.83512789e-21j 0.00366261-7.62398237e-21j\n",
            " 0.00461713-3.82776033e-21j 0.00366335+3.43407536e-21j\n",
            " 0.00363972-2.56007368e-21j 0.00381134+2.00785336e-21j\n",
            " 0.00389974+5.55075030e-21j 0.00345197+4.98028588e-21j\n",
            " 0.00305856+7.88682981e-21j 0.00361058-1.90583180e-20j\n",
            " 0.00440814+1.04030453e-21j 0.0039436 -3.68543206e-21j\n",
            " 0.00381495+1.23835573e-20j 0.00400375-1.21645445e-20j\n",
            " 0.00421089+8.75510462e-21j 0.00439241-8.75699972e-21j\n",
            " 0.00364781+1.27420075e-20j 0.00416068-7.68682786e-21j\n",
            " 0.00372214+1.12659701e-20j 0.00371085-4.52177871e-21j\n",
            " 0.00403142+5.07921646e-21j 0.00338768+8.46122816e-22j\n",
            " 0.00393297+1.36845068e-20j 0.00401712+1.14470370e-20j\n",
            " 0.00353786+1.03385341e-20j 0.00438773-2.90918748e-21j\n",
            " 0.00402472-6.29117590e-21j 0.00353634-5.66089013e-21j\n",
            " 0.00370095+3.08253031e-21j 0.00364621-2.53089340e-21j\n",
            " 0.00456857-1.04927234e-20j 0.00429433+1.01240367e-20j\n",
            " 0.00346288-9.25298497e-21j 0.00457998+3.07054708e-20j\n",
            " 0.0034171 -1.13287313e-20j 0.0039025 +1.40622741e-20j\n",
            " 0.00344541+1.01775108e-20j 0.00370793+1.21406722e-20j\n",
            " 0.004109  +1.18245067e-20j 0.00346089+6.61342127e-21j\n",
            " 0.00415888+1.34910224e-20j 0.004351  +7.26999826e-22j\n",
            " 0.0034492 -1.13572826e-21j 0.00374658+7.89290682e-21j\n",
            " 0.00406192+3.63397362e-21j 0.00370915+1.70503836e-21j\n",
            " 0.00369198-1.43809936e-20j 0.00405273-2.47662188e-20j\n",
            " 0.00369346+1.00430686e-22j 0.00362586-8.53731145e-21j\n",
            " 0.0040246 -4.24981299e-21j 0.00349094+4.51099432e-21j\n",
            " 0.00394093+1.15187129e-20j 0.00439548+7.37014642e-21j\n",
            " 0.00380305-1.13924651e-20j 0.00407847-5.58177779e-21j\n",
            " 0.0037906 -6.07439940e-21j 0.00428858+1.01598967e-20j\n",
            " 0.00431827+1.86260171e-20j 0.00364986-1.04786121e-20j\n",
            " 0.00401952+0.00000000e+00j 0.00393799+0.00000000e+00j\n",
            " 0.0039287 +0.00000000e+00j 0.00361676+0.00000000e+00j\n",
            " 0.00361624-5.75057940e-21j 0.00397885+4.98023785e-21j\n",
            " 0.00355992+8.28958221e-21j 0.0040507 +4.93211142e-22j\n",
            " 0.0039164 -3.43150753e-21j 0.00353159+2.92668388e-21j\n",
            " 0.004253  +6.00466533e-21j 0.00445843-2.79530173e-20j\n",
            " 0.00393956-8.61762663e-21j 0.0038433 -1.12463787e-21j\n",
            " 0.00431363+6.96125341e-21j 0.00401336-9.22553868e-21j\n",
            " 0.00349721-1.44797821e-20j 0.00427053+5.54459916e-21j\n",
            " 0.00403404-2.06992609e-20j 0.00388928-7.46598230e-21j\n",
            " 0.00368088+3.21051123e-21j 0.00399147-4.22637042e-21j\n",
            " 0.00376995+4.85078527e-21j 0.00339581-8.08132331e-22j\n",
            " 0.00361844-9.54458443e-21j 0.00413905-1.26225718e-20j\n",
            " 0.00331365-1.80296750e-20j 0.00399098+1.50742830e-21j\n",
            " 0.00400723-2.05944400e-21j 0.00406018-8.79164444e-21j\n",
            " 0.00335574+5.97871188e-21j 0.00372074+3.12481060e-21j\n",
            " 0.00403298+3.57341965e-21j 0.00382574+1.59856782e-20j\n",
            " 0.00387096-1.31696438e-21j 0.0031203 -1.76666982e-21j\n",
            " 0.00388743+6.71226904e-21j 0.00463484-1.90774154e-20j\n",
            " 0.00374276-5.76994749e-21j 0.00383325+5.95797223e-21j\n",
            " 0.00404531+1.45744640e-20j 0.00402447+2.60952376e-21j\n",
            " 0.0042172 +7.38376219e-21j 0.00412261-2.18173654e-21j\n",
            " 0.00462761+8.62947381e-21j 0.00411061+7.77254665e-21j\n",
            " 0.00376157-1.06904592e-20j 0.00370438-1.17742103e-20j\n",
            " 0.00379651+1.21806570e-20j 0.00401896+4.61386201e-21j\n",
            " 0.00317335+1.43905597e-22j 0.00347165-1.96471459e-20j\n",
            " 0.00406737+6.27605315e-21j 0.00368314-6.98172911e-22j\n",
            " 0.00327438-1.03373279e-20j 0.00461054-3.56209753e-21j\n",
            " 0.00342814+8.85172379e-21j 0.00370908-9.88010722e-21j\n",
            " 0.00380698-8.74228142e-21j 0.00372271-1.14602163e-20j\n",
            " 0.00392145+9.94169277e-21j 0.00407328-1.37267989e-20j\n",
            " 0.00384966-1.71554356e-20j 0.00414889-1.00920996e-21j\n",
            " 0.00393821+0.00000000e+00j 0.00380955+0.00000000e+00j\n",
            " 0.00372377+0.00000000e+00j 0.00374101+0.00000000e+00j]\n",
            "(0.9956228324093861+6.776263578034403e-20j)\n"
          ]
        }
      ]
    }
  ]
}