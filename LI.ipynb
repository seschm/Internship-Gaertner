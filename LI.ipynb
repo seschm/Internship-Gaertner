{
  "nbformat": 4,
  "nbformat_minor": 0,
  "metadata": {
    "colab": {
      "provenance": [],
      "authorship_tag": "ABX9TyNst9rFBR3GU8gbjPIFE/0I",
      "include_colab_link": true
    },
    "kernelspec": {
      "name": "python3",
      "display_name": "Python 3"
    },
    "language_info": {
      "name": "python"
    },
    "widgets": {
      "application/vnd.jupyter.widget-state+json": {
        "0b011815cee14d2fa4fa20fe921de17a": {
          "model_module": "@jupyter-widgets/controls",
          "model_name": "HBoxModel",
          "model_module_version": "1.5.0",
          "state": {
            "_dom_classes": [],
            "_model_module": "@jupyter-widgets/controls",
            "_model_module_version": "1.5.0",
            "_model_name": "HBoxModel",
            "_view_count": null,
            "_view_module": "@jupyter-widgets/controls",
            "_view_module_version": "1.5.0",
            "_view_name": "HBoxView",
            "box_style": "",
            "children": [
              "IPY_MODEL_681bf27c458e473f82f1bfe156ec644b",
              "IPY_MODEL_68bef16213e7429194e551d6f0342484",
              "IPY_MODEL_ce662de396c349678878f4112fcc2823"
            ],
            "layout": "IPY_MODEL_1f6cf0c886064bc6a113a534fdf42146"
          }
        },
        "681bf27c458e473f82f1bfe156ec644b": {
          "model_module": "@jupyter-widgets/controls",
          "model_name": "HTMLModel",
          "model_module_version": "1.5.0",
          "state": {
            "_dom_classes": [],
            "_model_module": "@jupyter-widgets/controls",
            "_model_module_version": "1.5.0",
            "_model_name": "HTMLModel",
            "_view_count": null,
            "_view_module": "@jupyter-widgets/controls",
            "_view_module_version": "1.5.0",
            "_view_name": "HTMLView",
            "description": "",
            "description_tooltip": null,
            "layout": "IPY_MODEL_0bf8435ca1a14530b1c263a49b887ca2",
            "placeholder": "​",
            "style": "IPY_MODEL_2b43ba91a2aa48e6a64a4958d79e354d",
            "value": "100%"
          }
        },
        "68bef16213e7429194e551d6f0342484": {
          "model_module": "@jupyter-widgets/controls",
          "model_name": "FloatProgressModel",
          "model_module_version": "1.5.0",
          "state": {
            "_dom_classes": [],
            "_model_module": "@jupyter-widgets/controls",
            "_model_module_version": "1.5.0",
            "_model_name": "FloatProgressModel",
            "_view_count": null,
            "_view_module": "@jupyter-widgets/controls",
            "_view_module_version": "1.5.0",
            "_view_name": "ProgressView",
            "bar_style": "success",
            "description": "",
            "description_tooltip": null,
            "layout": "IPY_MODEL_74edb51de2d64a30814b2c281cb8f957",
            "max": 10000,
            "min": 0,
            "orientation": "horizontal",
            "style": "IPY_MODEL_c149a8c5fd804e8fa234018e597802c0",
            "value": 10000
          }
        },
        "ce662de396c349678878f4112fcc2823": {
          "model_module": "@jupyter-widgets/controls",
          "model_name": "HTMLModel",
          "model_module_version": "1.5.0",
          "state": {
            "_dom_classes": [],
            "_model_module": "@jupyter-widgets/controls",
            "_model_module_version": "1.5.0",
            "_model_name": "HTMLModel",
            "_view_count": null,
            "_view_module": "@jupyter-widgets/controls",
            "_view_module_version": "1.5.0",
            "_view_name": "HTMLView",
            "description": "",
            "description_tooltip": null,
            "layout": "IPY_MODEL_65e51f9cedb94e16a931e6616a3cc499",
            "placeholder": "​",
            "style": "IPY_MODEL_fe600474f2fc42e8985365130b3f46f1",
            "value": " 10000/10000 [00:05&lt;00:00, 2337.76it/s]"
          }
        },
        "1f6cf0c886064bc6a113a534fdf42146": {
          "model_module": "@jupyter-widgets/base",
          "model_name": "LayoutModel",
          "model_module_version": "1.2.0",
          "state": {
            "_model_module": "@jupyter-widgets/base",
            "_model_module_version": "1.2.0",
            "_model_name": "LayoutModel",
            "_view_count": null,
            "_view_module": "@jupyter-widgets/base",
            "_view_module_version": "1.2.0",
            "_view_name": "LayoutView",
            "align_content": null,
            "align_items": null,
            "align_self": null,
            "border": null,
            "bottom": null,
            "display": null,
            "flex": null,
            "flex_flow": null,
            "grid_area": null,
            "grid_auto_columns": null,
            "grid_auto_flow": null,
            "grid_auto_rows": null,
            "grid_column": null,
            "grid_gap": null,
            "grid_row": null,
            "grid_template_areas": null,
            "grid_template_columns": null,
            "grid_template_rows": null,
            "height": null,
            "justify_content": null,
            "justify_items": null,
            "left": null,
            "margin": null,
            "max_height": null,
            "max_width": null,
            "min_height": null,
            "min_width": null,
            "object_fit": null,
            "object_position": null,
            "order": null,
            "overflow": null,
            "overflow_x": null,
            "overflow_y": null,
            "padding": null,
            "right": null,
            "top": null,
            "visibility": null,
            "width": null
          }
        },
        "0bf8435ca1a14530b1c263a49b887ca2": {
          "model_module": "@jupyter-widgets/base",
          "model_name": "LayoutModel",
          "model_module_version": "1.2.0",
          "state": {
            "_model_module": "@jupyter-widgets/base",
            "_model_module_version": "1.2.0",
            "_model_name": "LayoutModel",
            "_view_count": null,
            "_view_module": "@jupyter-widgets/base",
            "_view_module_version": "1.2.0",
            "_view_name": "LayoutView",
            "align_content": null,
            "align_items": null,
            "align_self": null,
            "border": null,
            "bottom": null,
            "display": null,
            "flex": null,
            "flex_flow": null,
            "grid_area": null,
            "grid_auto_columns": null,
            "grid_auto_flow": null,
            "grid_auto_rows": null,
            "grid_column": null,
            "grid_gap": null,
            "grid_row": null,
            "grid_template_areas": null,
            "grid_template_columns": null,
            "grid_template_rows": null,
            "height": null,
            "justify_content": null,
            "justify_items": null,
            "left": null,
            "margin": null,
            "max_height": null,
            "max_width": null,
            "min_height": null,
            "min_width": null,
            "object_fit": null,
            "object_position": null,
            "order": null,
            "overflow": null,
            "overflow_x": null,
            "overflow_y": null,
            "padding": null,
            "right": null,
            "top": null,
            "visibility": null,
            "width": null
          }
        },
        "2b43ba91a2aa48e6a64a4958d79e354d": {
          "model_module": "@jupyter-widgets/controls",
          "model_name": "DescriptionStyleModel",
          "model_module_version": "1.5.0",
          "state": {
            "_model_module": "@jupyter-widgets/controls",
            "_model_module_version": "1.5.0",
            "_model_name": "DescriptionStyleModel",
            "_view_count": null,
            "_view_module": "@jupyter-widgets/base",
            "_view_module_version": "1.2.0",
            "_view_name": "StyleView",
            "description_width": ""
          }
        },
        "74edb51de2d64a30814b2c281cb8f957": {
          "model_module": "@jupyter-widgets/base",
          "model_name": "LayoutModel",
          "model_module_version": "1.2.0",
          "state": {
            "_model_module": "@jupyter-widgets/base",
            "_model_module_version": "1.2.0",
            "_model_name": "LayoutModel",
            "_view_count": null,
            "_view_module": "@jupyter-widgets/base",
            "_view_module_version": "1.2.0",
            "_view_name": "LayoutView",
            "align_content": null,
            "align_items": null,
            "align_self": null,
            "border": null,
            "bottom": null,
            "display": null,
            "flex": null,
            "flex_flow": null,
            "grid_area": null,
            "grid_auto_columns": null,
            "grid_auto_flow": null,
            "grid_auto_rows": null,
            "grid_column": null,
            "grid_gap": null,
            "grid_row": null,
            "grid_template_areas": null,
            "grid_template_columns": null,
            "grid_template_rows": null,
            "height": null,
            "justify_content": null,
            "justify_items": null,
            "left": null,
            "margin": null,
            "max_height": null,
            "max_width": null,
            "min_height": null,
            "min_width": null,
            "object_fit": null,
            "object_position": null,
            "order": null,
            "overflow": null,
            "overflow_x": null,
            "overflow_y": null,
            "padding": null,
            "right": null,
            "top": null,
            "visibility": null,
            "width": null
          }
        },
        "c149a8c5fd804e8fa234018e597802c0": {
          "model_module": "@jupyter-widgets/controls",
          "model_name": "ProgressStyleModel",
          "model_module_version": "1.5.0",
          "state": {
            "_model_module": "@jupyter-widgets/controls",
            "_model_module_version": "1.5.0",
            "_model_name": "ProgressStyleModel",
            "_view_count": null,
            "_view_module": "@jupyter-widgets/base",
            "_view_module_version": "1.2.0",
            "_view_name": "StyleView",
            "bar_color": null,
            "description_width": ""
          }
        },
        "65e51f9cedb94e16a931e6616a3cc499": {
          "model_module": "@jupyter-widgets/base",
          "model_name": "LayoutModel",
          "model_module_version": "1.2.0",
          "state": {
            "_model_module": "@jupyter-widgets/base",
            "_model_module_version": "1.2.0",
            "_model_name": "LayoutModel",
            "_view_count": null,
            "_view_module": "@jupyter-widgets/base",
            "_view_module_version": "1.2.0",
            "_view_name": "LayoutView",
            "align_content": null,
            "align_items": null,
            "align_self": null,
            "border": null,
            "bottom": null,
            "display": null,
            "flex": null,
            "flex_flow": null,
            "grid_area": null,
            "grid_auto_columns": null,
            "grid_auto_flow": null,
            "grid_auto_rows": null,
            "grid_column": null,
            "grid_gap": null,
            "grid_row": null,
            "grid_template_areas": null,
            "grid_template_columns": null,
            "grid_template_rows": null,
            "height": null,
            "justify_content": null,
            "justify_items": null,
            "left": null,
            "margin": null,
            "max_height": null,
            "max_width": null,
            "min_height": null,
            "min_width": null,
            "object_fit": null,
            "object_position": null,
            "order": null,
            "overflow": null,
            "overflow_x": null,
            "overflow_y": null,
            "padding": null,
            "right": null,
            "top": null,
            "visibility": null,
            "width": null
          }
        },
        "fe600474f2fc42e8985365130b3f46f1": {
          "model_module": "@jupyter-widgets/controls",
          "model_name": "DescriptionStyleModel",
          "model_module_version": "1.5.0",
          "state": {
            "_model_module": "@jupyter-widgets/controls",
            "_model_module_version": "1.5.0",
            "_model_name": "DescriptionStyleModel",
            "_view_count": null,
            "_view_module": "@jupyter-widgets/base",
            "_view_module_version": "1.2.0",
            "_view_name": "StyleView",
            "description_width": ""
          }
        },
        "a4cb6d1bc2394565bbabfd732e66bbe7": {
          "model_module": "@jupyter-widgets/controls",
          "model_name": "HBoxModel",
          "model_module_version": "1.5.0",
          "state": {
            "_dom_classes": [],
            "_model_module": "@jupyter-widgets/controls",
            "_model_module_version": "1.5.0",
            "_model_name": "HBoxModel",
            "_view_count": null,
            "_view_module": "@jupyter-widgets/controls",
            "_view_module_version": "1.5.0",
            "_view_name": "HBoxView",
            "box_style": "",
            "children": [
              "IPY_MODEL_99b6708601a54612a1a3d99ff29ee926",
              "IPY_MODEL_81ff82845d9847c6907fa26ad9b797eb",
              "IPY_MODEL_39846e18d26b4614a28f2d99dc981864"
            ],
            "layout": "IPY_MODEL_e5da91f6b1f44389a094564868a9e9ab"
          }
        },
        "99b6708601a54612a1a3d99ff29ee926": {
          "model_module": "@jupyter-widgets/controls",
          "model_name": "HTMLModel",
          "model_module_version": "1.5.0",
          "state": {
            "_dom_classes": [],
            "_model_module": "@jupyter-widgets/controls",
            "_model_module_version": "1.5.0",
            "_model_name": "HTMLModel",
            "_view_count": null,
            "_view_module": "@jupyter-widgets/controls",
            "_view_module_version": "1.5.0",
            "_view_name": "HTMLView",
            "description": "",
            "description_tooltip": null,
            "layout": "IPY_MODEL_63c10003eddb49989ae91c66d5f2ae90",
            "placeholder": "​",
            "style": "IPY_MODEL_03a6fd55ee504ea3a26253a9a8d642d9",
            "value": "100%"
          }
        },
        "81ff82845d9847c6907fa26ad9b797eb": {
          "model_module": "@jupyter-widgets/controls",
          "model_name": "FloatProgressModel",
          "model_module_version": "1.5.0",
          "state": {
            "_dom_classes": [],
            "_model_module": "@jupyter-widgets/controls",
            "_model_module_version": "1.5.0",
            "_model_name": "FloatProgressModel",
            "_view_count": null,
            "_view_module": "@jupyter-widgets/controls",
            "_view_module_version": "1.5.0",
            "_view_name": "ProgressView",
            "bar_style": "success",
            "description": "",
            "description_tooltip": null,
            "layout": "IPY_MODEL_bba9ee718fed407bae6c0853c9b448dc",
            "max": 200,
            "min": 0,
            "orientation": "horizontal",
            "style": "IPY_MODEL_7e274e1c6b114f2bab3c6bcfb90fc918",
            "value": 200
          }
        },
        "39846e18d26b4614a28f2d99dc981864": {
          "model_module": "@jupyter-widgets/controls",
          "model_name": "HTMLModel",
          "model_module_version": "1.5.0",
          "state": {
            "_dom_classes": [],
            "_model_module": "@jupyter-widgets/controls",
            "_model_module_version": "1.5.0",
            "_model_name": "HTMLModel",
            "_view_count": null,
            "_view_module": "@jupyter-widgets/controls",
            "_view_module_version": "1.5.0",
            "_view_name": "HTMLView",
            "description": "",
            "description_tooltip": null,
            "layout": "IPY_MODEL_7e50f07722af4aca8a609bf544ef9287",
            "placeholder": "​",
            "style": "IPY_MODEL_2948869b672b4f4fb57c05400c6c3a48",
            "value": " 200/200 [00:00&lt;00:00, 1569.11it/s]"
          }
        },
        "e5da91f6b1f44389a094564868a9e9ab": {
          "model_module": "@jupyter-widgets/base",
          "model_name": "LayoutModel",
          "model_module_version": "1.2.0",
          "state": {
            "_model_module": "@jupyter-widgets/base",
            "_model_module_version": "1.2.0",
            "_model_name": "LayoutModel",
            "_view_count": null,
            "_view_module": "@jupyter-widgets/base",
            "_view_module_version": "1.2.0",
            "_view_name": "LayoutView",
            "align_content": null,
            "align_items": null,
            "align_self": null,
            "border": null,
            "bottom": null,
            "display": null,
            "flex": null,
            "flex_flow": null,
            "grid_area": null,
            "grid_auto_columns": null,
            "grid_auto_flow": null,
            "grid_auto_rows": null,
            "grid_column": null,
            "grid_gap": null,
            "grid_row": null,
            "grid_template_areas": null,
            "grid_template_columns": null,
            "grid_template_rows": null,
            "height": null,
            "justify_content": null,
            "justify_items": null,
            "left": null,
            "margin": null,
            "max_height": null,
            "max_width": null,
            "min_height": null,
            "min_width": null,
            "object_fit": null,
            "object_position": null,
            "order": null,
            "overflow": null,
            "overflow_x": null,
            "overflow_y": null,
            "padding": null,
            "right": null,
            "top": null,
            "visibility": null,
            "width": null
          }
        },
        "63c10003eddb49989ae91c66d5f2ae90": {
          "model_module": "@jupyter-widgets/base",
          "model_name": "LayoutModel",
          "model_module_version": "1.2.0",
          "state": {
            "_model_module": "@jupyter-widgets/base",
            "_model_module_version": "1.2.0",
            "_model_name": "LayoutModel",
            "_view_count": null,
            "_view_module": "@jupyter-widgets/base",
            "_view_module_version": "1.2.0",
            "_view_name": "LayoutView",
            "align_content": null,
            "align_items": null,
            "align_self": null,
            "border": null,
            "bottom": null,
            "display": null,
            "flex": null,
            "flex_flow": null,
            "grid_area": null,
            "grid_auto_columns": null,
            "grid_auto_flow": null,
            "grid_auto_rows": null,
            "grid_column": null,
            "grid_gap": null,
            "grid_row": null,
            "grid_template_areas": null,
            "grid_template_columns": null,
            "grid_template_rows": null,
            "height": null,
            "justify_content": null,
            "justify_items": null,
            "left": null,
            "margin": null,
            "max_height": null,
            "max_width": null,
            "min_height": null,
            "min_width": null,
            "object_fit": null,
            "object_position": null,
            "order": null,
            "overflow": null,
            "overflow_x": null,
            "overflow_y": null,
            "padding": null,
            "right": null,
            "top": null,
            "visibility": null,
            "width": null
          }
        },
        "03a6fd55ee504ea3a26253a9a8d642d9": {
          "model_module": "@jupyter-widgets/controls",
          "model_name": "DescriptionStyleModel",
          "model_module_version": "1.5.0",
          "state": {
            "_model_module": "@jupyter-widgets/controls",
            "_model_module_version": "1.5.0",
            "_model_name": "DescriptionStyleModel",
            "_view_count": null,
            "_view_module": "@jupyter-widgets/base",
            "_view_module_version": "1.2.0",
            "_view_name": "StyleView",
            "description_width": ""
          }
        },
        "bba9ee718fed407bae6c0853c9b448dc": {
          "model_module": "@jupyter-widgets/base",
          "model_name": "LayoutModel",
          "model_module_version": "1.2.0",
          "state": {
            "_model_module": "@jupyter-widgets/base",
            "_model_module_version": "1.2.0",
            "_model_name": "LayoutModel",
            "_view_count": null,
            "_view_module": "@jupyter-widgets/base",
            "_view_module_version": "1.2.0",
            "_view_name": "LayoutView",
            "align_content": null,
            "align_items": null,
            "align_self": null,
            "border": null,
            "bottom": null,
            "display": null,
            "flex": null,
            "flex_flow": null,
            "grid_area": null,
            "grid_auto_columns": null,
            "grid_auto_flow": null,
            "grid_auto_rows": null,
            "grid_column": null,
            "grid_gap": null,
            "grid_row": null,
            "grid_template_areas": null,
            "grid_template_columns": null,
            "grid_template_rows": null,
            "height": null,
            "justify_content": null,
            "justify_items": null,
            "left": null,
            "margin": null,
            "max_height": null,
            "max_width": null,
            "min_height": null,
            "min_width": null,
            "object_fit": null,
            "object_position": null,
            "order": null,
            "overflow": null,
            "overflow_x": null,
            "overflow_y": null,
            "padding": null,
            "right": null,
            "top": null,
            "visibility": null,
            "width": null
          }
        },
        "7e274e1c6b114f2bab3c6bcfb90fc918": {
          "model_module": "@jupyter-widgets/controls",
          "model_name": "ProgressStyleModel",
          "model_module_version": "1.5.0",
          "state": {
            "_model_module": "@jupyter-widgets/controls",
            "_model_module_version": "1.5.0",
            "_model_name": "ProgressStyleModel",
            "_view_count": null,
            "_view_module": "@jupyter-widgets/base",
            "_view_module_version": "1.2.0",
            "_view_name": "StyleView",
            "bar_color": null,
            "description_width": ""
          }
        },
        "7e50f07722af4aca8a609bf544ef9287": {
          "model_module": "@jupyter-widgets/base",
          "model_name": "LayoutModel",
          "model_module_version": "1.2.0",
          "state": {
            "_model_module": "@jupyter-widgets/base",
            "_model_module_version": "1.2.0",
            "_model_name": "LayoutModel",
            "_view_count": null,
            "_view_module": "@jupyter-widgets/base",
            "_view_module_version": "1.2.0",
            "_view_name": "LayoutView",
            "align_content": null,
            "align_items": null,
            "align_self": null,
            "border": null,
            "bottom": null,
            "display": null,
            "flex": null,
            "flex_flow": null,
            "grid_area": null,
            "grid_auto_columns": null,
            "grid_auto_flow": null,
            "grid_auto_rows": null,
            "grid_column": null,
            "grid_gap": null,
            "grid_row": null,
            "grid_template_areas": null,
            "grid_template_columns": null,
            "grid_template_rows": null,
            "height": null,
            "justify_content": null,
            "justify_items": null,
            "left": null,
            "margin": null,
            "max_height": null,
            "max_width": null,
            "min_height": null,
            "min_width": null,
            "object_fit": null,
            "object_position": null,
            "order": null,
            "overflow": null,
            "overflow_x": null,
            "overflow_y": null,
            "padding": null,
            "right": null,
            "top": null,
            "visibility": null,
            "width": null
          }
        },
        "2948869b672b4f4fb57c05400c6c3a48": {
          "model_module": "@jupyter-widgets/controls",
          "model_name": "DescriptionStyleModel",
          "model_module_version": "1.5.0",
          "state": {
            "_model_module": "@jupyter-widgets/controls",
            "_model_module_version": "1.5.0",
            "_model_name": "DescriptionStyleModel",
            "_view_count": null,
            "_view_module": "@jupyter-widgets/base",
            "_view_module_version": "1.2.0",
            "_view_name": "StyleView",
            "description_width": ""
          }
        },
        "efdadd871f7740c8b1539761f2db5eea": {
          "model_module": "@jupyter-widgets/controls",
          "model_name": "HBoxModel",
          "model_module_version": "1.5.0",
          "state": {
            "_dom_classes": [],
            "_model_module": "@jupyter-widgets/controls",
            "_model_module_version": "1.5.0",
            "_model_name": "HBoxModel",
            "_view_count": null,
            "_view_module": "@jupyter-widgets/controls",
            "_view_module_version": "1.5.0",
            "_view_name": "HBoxView",
            "box_style": "",
            "children": [
              "IPY_MODEL_af416fe9cc4f4f3c8b168e4cf4b5b118",
              "IPY_MODEL_79ef34fa6e2341d8b239e57ca1651185",
              "IPY_MODEL_75c0239f11e640518dfe674efce99edb"
            ],
            "layout": "IPY_MODEL_341750e5e7c04a8c8b86bb363ed2c757"
          }
        },
        "af416fe9cc4f4f3c8b168e4cf4b5b118": {
          "model_module": "@jupyter-widgets/controls",
          "model_name": "HTMLModel",
          "model_module_version": "1.5.0",
          "state": {
            "_dom_classes": [],
            "_model_module": "@jupyter-widgets/controls",
            "_model_module_version": "1.5.0",
            "_model_name": "HTMLModel",
            "_view_count": null,
            "_view_module": "@jupyter-widgets/controls",
            "_view_module_version": "1.5.0",
            "_view_name": "HTMLView",
            "description": "",
            "description_tooltip": null,
            "layout": "IPY_MODEL_e41d8cc536744b98ac0bf8c8c16a985e",
            "placeholder": "​",
            "style": "IPY_MODEL_d756f671e4304c14b33a984e7f03c07a",
            "value": "100%"
          }
        },
        "79ef34fa6e2341d8b239e57ca1651185": {
          "model_module": "@jupyter-widgets/controls",
          "model_name": "FloatProgressModel",
          "model_module_version": "1.5.0",
          "state": {
            "_dom_classes": [],
            "_model_module": "@jupyter-widgets/controls",
            "_model_module_version": "1.5.0",
            "_model_name": "FloatProgressModel",
            "_view_count": null,
            "_view_module": "@jupyter-widgets/controls",
            "_view_module_version": "1.5.0",
            "_view_name": "ProgressView",
            "bar_style": "success",
            "description": "",
            "description_tooltip": null,
            "layout": "IPY_MODEL_b2b93f24189f41af86ab080b2473cb1c",
            "max": 300,
            "min": 0,
            "orientation": "horizontal",
            "style": "IPY_MODEL_0c410dae644248e391fec112701eed0a",
            "value": 300
          }
        },
        "75c0239f11e640518dfe674efce99edb": {
          "model_module": "@jupyter-widgets/controls",
          "model_name": "HTMLModel",
          "model_module_version": "1.5.0",
          "state": {
            "_dom_classes": [],
            "_model_module": "@jupyter-widgets/controls",
            "_model_module_version": "1.5.0",
            "_model_name": "HTMLModel",
            "_view_count": null,
            "_view_module": "@jupyter-widgets/controls",
            "_view_module_version": "1.5.0",
            "_view_name": "HTMLView",
            "description": "",
            "description_tooltip": null,
            "layout": "IPY_MODEL_2bd3f5187bb24dd5b39d4697a4d2db1f",
            "placeholder": "​",
            "style": "IPY_MODEL_2123bb410e834185b77d21569ab81c60",
            "value": " 300/300 [01:49&lt;00:00,  2.25it/s]"
          }
        },
        "341750e5e7c04a8c8b86bb363ed2c757": {
          "model_module": "@jupyter-widgets/base",
          "model_name": "LayoutModel",
          "model_module_version": "1.2.0",
          "state": {
            "_model_module": "@jupyter-widgets/base",
            "_model_module_version": "1.2.0",
            "_model_name": "LayoutModel",
            "_view_count": null,
            "_view_module": "@jupyter-widgets/base",
            "_view_module_version": "1.2.0",
            "_view_name": "LayoutView",
            "align_content": null,
            "align_items": null,
            "align_self": null,
            "border": null,
            "bottom": null,
            "display": null,
            "flex": null,
            "flex_flow": null,
            "grid_area": null,
            "grid_auto_columns": null,
            "grid_auto_flow": null,
            "grid_auto_rows": null,
            "grid_column": null,
            "grid_gap": null,
            "grid_row": null,
            "grid_template_areas": null,
            "grid_template_columns": null,
            "grid_template_rows": null,
            "height": null,
            "justify_content": null,
            "justify_items": null,
            "left": null,
            "margin": null,
            "max_height": null,
            "max_width": null,
            "min_height": null,
            "min_width": null,
            "object_fit": null,
            "object_position": null,
            "order": null,
            "overflow": null,
            "overflow_x": null,
            "overflow_y": null,
            "padding": null,
            "right": null,
            "top": null,
            "visibility": null,
            "width": null
          }
        },
        "e41d8cc536744b98ac0bf8c8c16a985e": {
          "model_module": "@jupyter-widgets/base",
          "model_name": "LayoutModel",
          "model_module_version": "1.2.0",
          "state": {
            "_model_module": "@jupyter-widgets/base",
            "_model_module_version": "1.2.0",
            "_model_name": "LayoutModel",
            "_view_count": null,
            "_view_module": "@jupyter-widgets/base",
            "_view_module_version": "1.2.0",
            "_view_name": "LayoutView",
            "align_content": null,
            "align_items": null,
            "align_self": null,
            "border": null,
            "bottom": null,
            "display": null,
            "flex": null,
            "flex_flow": null,
            "grid_area": null,
            "grid_auto_columns": null,
            "grid_auto_flow": null,
            "grid_auto_rows": null,
            "grid_column": null,
            "grid_gap": null,
            "grid_row": null,
            "grid_template_areas": null,
            "grid_template_columns": null,
            "grid_template_rows": null,
            "height": null,
            "justify_content": null,
            "justify_items": null,
            "left": null,
            "margin": null,
            "max_height": null,
            "max_width": null,
            "min_height": null,
            "min_width": null,
            "object_fit": null,
            "object_position": null,
            "order": null,
            "overflow": null,
            "overflow_x": null,
            "overflow_y": null,
            "padding": null,
            "right": null,
            "top": null,
            "visibility": null,
            "width": null
          }
        },
        "d756f671e4304c14b33a984e7f03c07a": {
          "model_module": "@jupyter-widgets/controls",
          "model_name": "DescriptionStyleModel",
          "model_module_version": "1.5.0",
          "state": {
            "_model_module": "@jupyter-widgets/controls",
            "_model_module_version": "1.5.0",
            "_model_name": "DescriptionStyleModel",
            "_view_count": null,
            "_view_module": "@jupyter-widgets/base",
            "_view_module_version": "1.2.0",
            "_view_name": "StyleView",
            "description_width": ""
          }
        },
        "b2b93f24189f41af86ab080b2473cb1c": {
          "model_module": "@jupyter-widgets/base",
          "model_name": "LayoutModel",
          "model_module_version": "1.2.0",
          "state": {
            "_model_module": "@jupyter-widgets/base",
            "_model_module_version": "1.2.0",
            "_model_name": "LayoutModel",
            "_view_count": null,
            "_view_module": "@jupyter-widgets/base",
            "_view_module_version": "1.2.0",
            "_view_name": "LayoutView",
            "align_content": null,
            "align_items": null,
            "align_self": null,
            "border": null,
            "bottom": null,
            "display": null,
            "flex": null,
            "flex_flow": null,
            "grid_area": null,
            "grid_auto_columns": null,
            "grid_auto_flow": null,
            "grid_auto_rows": null,
            "grid_column": null,
            "grid_gap": null,
            "grid_row": null,
            "grid_template_areas": null,
            "grid_template_columns": null,
            "grid_template_rows": null,
            "height": null,
            "justify_content": null,
            "justify_items": null,
            "left": null,
            "margin": null,
            "max_height": null,
            "max_width": null,
            "min_height": null,
            "min_width": null,
            "object_fit": null,
            "object_position": null,
            "order": null,
            "overflow": null,
            "overflow_x": null,
            "overflow_y": null,
            "padding": null,
            "right": null,
            "top": null,
            "visibility": null,
            "width": null
          }
        },
        "0c410dae644248e391fec112701eed0a": {
          "model_module": "@jupyter-widgets/controls",
          "model_name": "ProgressStyleModel",
          "model_module_version": "1.5.0",
          "state": {
            "_model_module": "@jupyter-widgets/controls",
            "_model_module_version": "1.5.0",
            "_model_name": "ProgressStyleModel",
            "_view_count": null,
            "_view_module": "@jupyter-widgets/base",
            "_view_module_version": "1.2.0",
            "_view_name": "StyleView",
            "bar_color": null,
            "description_width": ""
          }
        },
        "2bd3f5187bb24dd5b39d4697a4d2db1f": {
          "model_module": "@jupyter-widgets/base",
          "model_name": "LayoutModel",
          "model_module_version": "1.2.0",
          "state": {
            "_model_module": "@jupyter-widgets/base",
            "_model_module_version": "1.2.0",
            "_model_name": "LayoutModel",
            "_view_count": null,
            "_view_module": "@jupyter-widgets/base",
            "_view_module_version": "1.2.0",
            "_view_name": "LayoutView",
            "align_content": null,
            "align_items": null,
            "align_self": null,
            "border": null,
            "bottom": null,
            "display": null,
            "flex": null,
            "flex_flow": null,
            "grid_area": null,
            "grid_auto_columns": null,
            "grid_auto_flow": null,
            "grid_auto_rows": null,
            "grid_column": null,
            "grid_gap": null,
            "grid_row": null,
            "grid_template_areas": null,
            "grid_template_columns": null,
            "grid_template_rows": null,
            "height": null,
            "justify_content": null,
            "justify_items": null,
            "left": null,
            "margin": null,
            "max_height": null,
            "max_width": null,
            "min_height": null,
            "min_width": null,
            "object_fit": null,
            "object_position": null,
            "order": null,
            "overflow": null,
            "overflow_x": null,
            "overflow_y": null,
            "padding": null,
            "right": null,
            "top": null,
            "visibility": null,
            "width": null
          }
        },
        "2123bb410e834185b77d21569ab81c60": {
          "model_module": "@jupyter-widgets/controls",
          "model_name": "DescriptionStyleModel",
          "model_module_version": "1.5.0",
          "state": {
            "_model_module": "@jupyter-widgets/controls",
            "_model_module_version": "1.5.0",
            "_model_name": "DescriptionStyleModel",
            "_view_count": null,
            "_view_module": "@jupyter-widgets/base",
            "_view_module_version": "1.2.0",
            "_view_name": "StyleView",
            "description_width": ""
          }
        }
      }
    }
  },
  "cells": [
    {
      "cell_type": "markdown",
      "metadata": {
        "id": "view-in-github",
        "colab_type": "text"
      },
      "source": [
        "<a href=\"https://colab.research.google.com/github/seschm/Internship-Gaertner/blob/main/LI.ipynb\" target=\"_parent\"><img src=\"https://colab.research.google.com/assets/colab-badge.svg\" alt=\"Open In Colab\"/></a>"
      ]
    },
    {
      "cell_type": "code",
      "execution_count": 1,
      "metadata": {
        "id": "rNSbemVHWd09"
      },
      "outputs": [],
      "source": [
        "import jax\n",
        "import jax.numpy as jnp\n",
        "from jax import jit, vmap, pmap, grad\n",
        "from jax import random\n",
        "import flax\n",
        "from flax import linen as nn\n",
        "from flax.training import train_state\n",
        "import optax\n",
        "import torch.utils.data as data\n",
        "\n",
        "from tqdm.auto import tqdm\n",
        "import random as rng\n",
        "\n",
        "import numpy as np\n",
        "from numpy import sqrt, cos, sin, exp, pi, log2\n",
        "import matplotlib.pyplot as plt\n",
        "%matplotlib inline\n",
        "import matplotlib.pyplot as plt\n",
        "from scipy.stats import unitary_group\n",
        "from scipy.stats import norm"
      ]
    },
    {
      "cell_type": "code",
      "source": [
        "def generate_random_pure_state(nQubit):\n",
        "    \"\"\"\n",
        "    Generates Haar random pure state.\n",
        "    To generate a random pure state, take any basis state, e.g. |00...00>\n",
        "    and apply a random unitary matrix. For consistency each basis state should be the same. \n",
        "    \"\"\"\n",
        "    baseRho=np.zeros((2**nQubit,2**nQubit),dtype=complex)\n",
        "    baseRho[0,0]=1\n",
        "    U=unitary_group.rvs(2**nQubit)\n",
        "    return U@baseRho@U.conj().T"
      ],
      "metadata": {
        "id": "NL8OUVQPWirD"
      },
      "execution_count": 2,
      "outputs": []
    },
    {
      "cell_type": "code",
      "source": [
        "def generate_single_qubit(theta,phi):\n",
        "    \"\"\"\n",
        "    Generates single qubit out of the given angles theta and phi.\n",
        "    First construct the single qubit state as an array of shape (2, 1).\n",
        "    Then compute the matrixproduct with its adjoint state.\n",
        "    \"\"\"\n",
        "    state = np.array([[cos(theta/2)],[sin(theta/2)*exp(phi*1.j)]])\n",
        "    return state@state.conj().T"
      ],
      "metadata": {
        "id": "ELe6J7anWlIm"
      },
      "execution_count": 3,
      "outputs": []
    },
    {
      "cell_type": "code",
      "source": [
        "def generate_random_seperable_pure_state(nQubit):\n",
        "    \"\"\"\n",
        "    Generates random seperable pure state.\n",
        "    First generate the desired number of random pure states.\n",
        "    Then tensor them together.\n",
        "    \"\"\"\n",
        "    single_qubits = []\n",
        "    for i in range(0,nQubit):\n",
        "        single_qubits.append(generate_random_pure_state(1))\n",
        "    tensored_qubits = [single_qubits[0]]\n",
        "    for i in range(1,nQubit):\n",
        "        tensored_qubits.append(np.kron(tensored_qubits[-1],single_qubits[i]))    \n",
        "    return tensored_qubits[-1]"
      ],
      "metadata": {
        "id": "4WlbzZjtWneN"
      },
      "execution_count": 4,
      "outputs": []
    },
    {
      "cell_type": "code",
      "source": [
        "def depolarizing_channel(state,p):\n",
        "    \"\"\"\n",
        "    Applies a depolarizing channel to the given state with p the probability of the completely mixed state.\n",
        "    \"\"\"\n",
        "    d=len(state[0])\n",
        "    return p*np.eye(d)/d+(1-p)*state"
      ],
      "metadata": {
        "id": "bfQWuEzmWpWe"
      },
      "execution_count": 5,
      "outputs": []
    },
    {
      "cell_type": "code",
      "source": [
        "def generate_POVM(theta,phi,nQubit):\n",
        "    \"\"\"\n",
        "    Generates a POVM consisting of multi qubit projectors on to the axis defined by the two angles theta and phi.\n",
        "    First generates all possible states (combinations of spin up and down) as strings containing 1s and 0s.\n",
        "    The order is equal to binary counting.\n",
        "    Then generates the single qubit projector and its orthogonal projector.\n",
        "    In the next step all single qubit projectors corresponding to the same state are gathered in the correct order and then tensored together to get an element of the POVM.\n",
        "    Returns the POVM with the elements beeing ordered equal to binary counting (-> up ... up, up ... up down, up ... up down up, ...).\n",
        "    \"\"\"\n",
        "    up_and_downs = []\n",
        "\n",
        "    for i in range(2**nQubit):\n",
        "        binary = bin(i)[2:]\n",
        "        zeros = np.zeros(nQubit-len(binary), dtype=int)\n",
        "        for k in range(nQubit-len(binary)):\n",
        "            binary = '0' + binary\n",
        "        up_and_downs.append(binary)\n",
        "\n",
        "    projector=generate_single_qubit(theta,phi)\n",
        "    orthogonal_projector = np.eye(2)-projector\n",
        "    POVM = []\n",
        "\n",
        "    for i in range(2**nQubit):\n",
        "        tensored_projector = []\n",
        "        single_projectors = []\n",
        "        for j in range(nQubit):\n",
        "            if up_and_downs[i][j] == '0':\n",
        "                single_projectors.append(projector)\n",
        "            if up_and_downs[i][j] == '1':\n",
        "                single_projectors.append(orthogonal_projector)\n",
        "        tensored_projector.append(single_projectors[0])\n",
        "        for k in range(nQubit-1):\n",
        "            tensored_projector.append(np.kron(tensored_projector[-1],single_projectors[k+1]))\n",
        "        POVM.append(tensored_projector[-1])\n",
        "    \n",
        "    return POVM"
      ],
      "metadata": {
        "id": "0BxQaNEuWrGN"
      },
      "execution_count": 6,
      "outputs": []
    },
    {
      "cell_type": "code",
      "source": [
        "def perform_multi_qubit_measurement(state,POVM):\n",
        "    \"\"\"\n",
        "    Performs a multi qubit measurement with the given POVM.\n",
        "    \"\"\"\n",
        "    probabilities = []\n",
        "    for element in POVM:\n",
        "        probabilities.append(np.trace(element@state))\n",
        "    return probabilities"
      ],
      "metadata": {
        "id": "pU2BTp50WtYF"
      },
      "execution_count": 7,
      "outputs": []
    },
    {
      "cell_type": "code",
      "source": [
        "def perform_noisy_multi_qubit_measurement(state,POVM,p):\n",
        "    \"\"\"\n",
        "    Generates probabilities of the noisy state.\n",
        "    First applies the noise, then generates the probabilities.\n",
        "    \"\"\"\n",
        "    noisy_state = depolarizing_channel(state,p)\n",
        "    return perform_multi_qubit_measurement(noisy_state,POVM)"
      ],
      "metadata": {
        "id": "F0VSlXlDWxS2"
      },
      "execution_count": 8,
      "outputs": []
    },
    {
      "cell_type": "code",
      "source": [
        "def sampling(probabilities,samplesize=1000):\n",
        "    \"\"\"\n",
        "    Takes in a probability distribution and samples from it.\n",
        "    \"\"\"\n",
        "    sampling = rng.choices(np.arange(0,len(probabilities)), weights=probabilities, k=samplesize)\n",
        "    sampled_probabilities = []\n",
        "    for element in np.arange(0,len(probabilities)):\n",
        "        sampled_probabilities.append(sampling.count(element)/samplesize)\n",
        "    return sampled_probabilities"
      ],
      "metadata": {
        "id": "DexiCC0lWz8U"
      },
      "execution_count": 9,
      "outputs": []
    },
    {
      "cell_type": "code",
      "source": [
        "def numpy_collate(batch):\n",
        "    if isinstance(batch[0], np.ndarray):\n",
        "        return np.stack(batch)\n",
        "    elif isinstance(batch[0], (tuple,list)):\n",
        "        transposed = zip(*batch)\n",
        "        return [numpy_collate(samples) for samples in transposed]\n",
        "    else:\n",
        "        return np.array(batch)"
      ],
      "metadata": {
        "id": "WqSLXSaz-JvW"
      },
      "execution_count": 10,
      "outputs": []
    },
    {
      "cell_type": "code",
      "source": [
        "def loss_fn(state, params, batch_input, batch_target_output):\n",
        "    #predictions = jax.nn.softmax(state.apply_fn(params, batch_input))\n",
        "    predictions = state.apply_fn(params, batch_input)\n",
        "    #loss = jnp.mean(optax.softmax_cross_entropy(predictions,batch_target_output))\n",
        "    loss = jnp.mean(-jnp.sum(batch_target_output*jax.lax.log(predictions),axis=1))\n",
        "    return loss"
      ],
      "metadata": {
        "id": "DuA5TA1mcL6z"
      },
      "execution_count": 11,
      "outputs": []
    },
    {
      "cell_type": "code",
      "source": [
        "@jax.jit\n",
        "def accuracy_MSE(acc_input, acc_target_output,nQubit):\n",
        "  acc = jnp.mean(jnp.sum(jnp.abs(acc_input-acc_target_output)**2,axis=2)/(2**nQubit))\n",
        "  return acc"
      ],
      "metadata": {
        "id": "BG_VdtAacOTF"
      },
      "execution_count": 12,
      "outputs": []
    },
    {
      "cell_type": "code",
      "source": [
        "@jax.jit\n",
        "def accuracy_KLD(acc_input, acc_target_output):\n",
        "  acc = jnp.mean(jnp.sum(acc_target_output*jnp.log(acc_target_output/acc_input),axis=2))\n",
        "  return acc"
      ],
      "metadata": {
        "id": "AVM2oD_ycQjs"
      },
      "execution_count": 13,
      "outputs": []
    },
    {
      "cell_type": "code",
      "source": [
        "@jax.jit\n",
        "def accuracy_IF(acc_input, acc_target_output):\n",
        "  acc = jnp.mean(1-(jnp.sum(jnp.sqrt(acc_target_output*acc_input),axis=2))**2)\n",
        "  return acc"
      ],
      "metadata": {
        "id": "GypsBRRncSx5"
      },
      "execution_count": 14,
      "outputs": []
    },
    {
      "cell_type": "code",
      "source": [
        "@jax.jit  # Jit the function for efficiency\n",
        "def train_step(state, batch_input, batch_target_output):\n",
        "    # Gradient function\n",
        "    grad_fn = jax.value_and_grad(loss_fn,# Function to calculate the loss\n",
        "                                 argnums=1,  # Parameters are second argument of the function\n",
        "                                )\n",
        "    # Determine gradients for current model, parameters and batch\n",
        "    loss, grads = grad_fn(state, state.params, batch_input, batch_target_output)\n",
        "    # Perform parameter update with gradients and optimizer\n",
        "    state = state.apply_gradients(grads=grads)\n",
        "    # Return state and any other value we might want\n",
        "    return state, loss"
      ],
      "metadata": {
        "id": "ULz51WRmcU9h"
      },
      "execution_count": 15,
      "outputs": []
    },
    {
      "cell_type": "code",
      "source": [
        "def train_model(state, batched_training_input, batched_training_target_outputs, acc_input, acc_target_output,nQubit, num_epochs = 100):\n",
        "  \n",
        "  acc_test_MSE = []\n",
        "  acc_training_MSE = []\n",
        "  acc_unmitigated_test_MSE = []\n",
        "\n",
        "  acc_test_KLD = []\n",
        "  acc_training_KLD = []\n",
        "  acc_unmitigated_test_KLD = []\n",
        "\n",
        "  acc_test_IF = []\n",
        "  acc_training_IF = []\n",
        "  acc_unmitigated_test_IF = []\n",
        "\n",
        "  for epoch in tqdm(range(num_epochs)):\n",
        "    for i in range(len(batched_training_input)):\n",
        "      state, loss = train_step(state, batched_training_input[i], batched_training_target_outputs[i])\n",
        "\n",
        "    predictions_test = state.apply_fn(state.params, acc_input)\n",
        "    predictions_training = state.apply_fn(state.params, batched_training_input)\n",
        "\n",
        "    acc_test_MSE.append(accuracy_MSE(predictions_test, acc_target_output,nQubit))\n",
        "    acc_training_MSE.append(accuracy_MSE(predictions_training, batched_training_target_outputs,nQubit))\n",
        "    acc_unmitigated_test_MSE.append(accuracy_MSE(acc_input, acc_target_output,nQubit))\n",
        "\n",
        "    acc_test_KLD.append(accuracy_KLD(predictions_test, acc_target_output))\n",
        "    acc_training_KLD.append(accuracy_KLD(predictions_training, batched_training_target_outputs))\n",
        "    acc_unmitigated_test_KLD.append(accuracy_KLD(acc_input, acc_target_output))\n",
        "\n",
        "    acc_test_IF.append(accuracy_IF(predictions_test, acc_target_output))\n",
        "    acc_training_IF.append(accuracy_IF(predictions_training, batched_training_target_outputs))\n",
        "    acc_unmitigated_test_IF.append(accuracy_IF(acc_input, acc_target_output))\n",
        "\n",
        "  return state, [acc_test_MSE, acc_training_MSE, acc_unmitigated_test_MSE], [acc_test_KLD, acc_training_KLD, acc_unmitigated_test_KLD], [acc_test_IF, acc_training_IF, acc_unmitigated_test_IF]"
      ],
      "metadata": {
        "id": "BCgnyNL-cadr"
      },
      "execution_count": 16,
      "outputs": []
    },
    {
      "cell_type": "code",
      "source": [
        "class MLP(nn.Module):\n",
        "\n",
        "  num_neurons: int   # number of neurons = 2 to the number of Qubits -> matrix\n",
        "\n",
        "  @nn.compact\n",
        "  def __call__(self, x):\n",
        "    input = x\n",
        "    output = nn.Dense(num_neurons, use_bias=False, kernel_init=nn.initializers.variance_scaling(scale=0.01,mode=\"fan_in\",distribution=\"normal\"))(input) \n",
        "    return jax.nn.softmax(output)\n",
        "    #return output"
      ],
      "metadata": {
        "id": "Pn0Ljv3AW2R4"
      },
      "execution_count": 17,
      "outputs": []
    },
    {
      "cell_type": "code",
      "source": [
        "nQubit = 2\n",
        "num_neurons = 2**nQubit\n",
        "num_epochs = 300\n",
        "batch_size = 100\n",
        "learning_rate = 0.25\n",
        "training_states = 10000\n",
        "test_states = 200\n",
        "training_data = np.zeros((training_states,2**nQubit*2))\n",
        "test_data = np.zeros((test_states,2**nQubit*2))\n",
        "theta = 0\n",
        "phi = 0\n",
        "p = 0.15\n",
        "\n",
        "model = MLP(num_neurons=num_neurons)        # Initialize network\n",
        "x_key, init_key = random.split(random.PRNGKey(0))\n",
        "x = random.normal(x_key, (batch_size, 2**nQubit))                    # Batch size 100, input size 2\n",
        "params = model.init(init_key, x)                      # Initialize network params (biases being initialized as zeros)\n",
        "\n",
        "optimizer = optax.sgd(learning_rate=learning_rate) #sgd\n",
        "model_state = train_state.TrainState.create(apply_fn=model.apply,\n",
        "                                            params=params,\n",
        "                                            tx=optimizer)\n",
        "\n",
        "POVM = generate_POVM(theta,phi,nQubit)\n",
        "\n",
        "for i in tqdm(range(training_states)):\n",
        "    state = generate_random_seperable_pure_state(nQubit)\n",
        "    probs = perform_multi_qubit_measurement(state,POVM)\n",
        "    noisy_probs = perform_noisy_multi_qubit_measurement(state,POVM,p)\n",
        "    #noisy_probs_sampled = sampling(noisy_probs)\n",
        "    for j in range(2**nQubit):\n",
        "        #training_data[i][j] = noisy_probs_sampled[j]\n",
        "        training_data[i][j] = noisy_probs[j]\n",
        "        training_data[i][j+2**nQubit] = probs[j]\n",
        "\n",
        "for i in tqdm(range(test_states)):\n",
        "    state = generate_random_seperable_pure_state(nQubit)\n",
        "    probs = perform_multi_qubit_measurement(state,POVM)\n",
        "    noisy_probs = perform_noisy_multi_qubit_measurement(state,POVM,p)\n",
        "    #noisy_probs_sampled = sampling(noisy_probs)\n",
        "    for j in range(2**nQubit):\n",
        "        #test_data[i][j] = noisy_probs_sampled[j]\n",
        "        test_data[i][j] = noisy_probs[j]\n",
        "        test_data[i][j+2**nQubit] = probs[j]\n",
        "\n",
        "data_loader_training = data.DataLoader(training_data, batch_size=batch_size, shuffle=True, collate_fn=numpy_collate)\n",
        "batched_training_input = []  \n",
        "batched_training_target_outputs = []\n",
        "\n",
        "for batch in data_loader_training:\n",
        "  inputs, targets = jnp.split(batch,2,axis=1)\n",
        "  batched_training_input.append(inputs)\n",
        "  batched_training_target_outputs.append(targets)\n",
        "\n",
        "\n",
        "data_loader_test = data.DataLoader(test_data, batch_size=batch_size, shuffle=True, collate_fn=numpy_collate)\n",
        "batched_test_input = []  \n",
        "batched_test_target_outputs = []\n",
        "\n",
        "for batch in data_loader_test:\n",
        "  inputs, targets = jnp.split(batch,2,axis=1)\n",
        "  batched_test_input.append(inputs)\n",
        "  batched_test_target_outputs.append(targets)\n",
        "\n",
        "batched_tr_inp = jnp.asarray(batched_training_input)\n",
        "batched_tr_tar_out = jnp.asarray(batched_training_target_outputs)\n",
        "batched_test_inp = jnp.asarray(batched_test_input)\n",
        "batched_test_tar_out = jnp.asarray(batched_test_target_outputs)\n",
        "\n",
        "trained_model_state2, MSE_data2, KLD_data2, IF_data2 = train_model(model_state, batched_tr_inp, batched_tr_tar_out, \n",
        "                                                               batched_test_inp, batched_test_tar_out, \n",
        "                                                               nQubit=nQubit, num_epochs = num_epochs)\n",
        "\n",
        "i = np.arange(0,num_epochs)\n",
        "fig, axs = plt.subplots(1, 3, figsize=(18, 6), sharey=True)\n",
        "axs[0].plot(i,MSE_data2[0],label=\"MSE test data\",color=\"red\")\n",
        "axs[0].plot(i,MSE_data2[1],label=\"MSE training data\",linestyle=\"--\",color=\"black\")\n",
        "axs[0].plot(i,MSE_data2[2],label=\"MSE unmitigated test data\",linestyle=\"-.\",color=\"blue\")\n",
        "axs[0].set_xlabel('Number of epochs')\n",
        "axs[0].set_ylabel('Accuracy / Mean loss over all datapoints')\n",
        "axs[0].set_yscale('log')\n",
        "axs[0].legend()\n",
        "axs[1].plot(i,KLD_data2[0],label=\"KLD test data\",color=\"red\")\n",
        "axs[1].plot(i,KLD_data2[1],label=\"KLD training data\",linestyle=\"--\",color=\"black\")\n",
        "axs[1].plot(i,KLD_data2[2],label=\"KLD unmitigated test data\",linestyle=\"-.\",color=\"blue\")\n",
        "axs[1].set_xlabel('Number of epochs')\n",
        "axs[1].set_ylabel('Accuracy / Mean loss over all datapoints')\n",
        "axs[1].set_yscale('log')\n",
        "axs[1].legend()\n",
        "axs[2].plot(i,IF_data2[0],label=\"IF test data\",color=\"red\")\n",
        "axs[2].plot(i,IF_data2[1],label=\"IF training data\",linestyle=\"--\",color=\"black\")\n",
        "axs[2].plot(i,IF_data2[2],label=\"IF unmitigated test data\",linestyle=\"-.\",color=\"blue\")\n",
        "axs[2].set_xlabel('Number of epochs')\n",
        "axs[2].set_ylabel('Accuracy / Mean loss over all datapoints')\n",
        "axs[2].set_yscale('log')\n",
        "axs[2].legend()\n",
        "fig.suptitle('Accuracy')"
      ],
      "metadata": {
        "colab": {
          "base_uri": "https://localhost:8080/",
          "height": 851,
          "referenced_widgets": [
            "0b011815cee14d2fa4fa20fe921de17a",
            "681bf27c458e473f82f1bfe156ec644b",
            "68bef16213e7429194e551d6f0342484",
            "ce662de396c349678878f4112fcc2823",
            "1f6cf0c886064bc6a113a534fdf42146",
            "0bf8435ca1a14530b1c263a49b887ca2",
            "2b43ba91a2aa48e6a64a4958d79e354d",
            "74edb51de2d64a30814b2c281cb8f957",
            "c149a8c5fd804e8fa234018e597802c0",
            "65e51f9cedb94e16a931e6616a3cc499",
            "fe600474f2fc42e8985365130b3f46f1",
            "a4cb6d1bc2394565bbabfd732e66bbe7",
            "99b6708601a54612a1a3d99ff29ee926",
            "81ff82845d9847c6907fa26ad9b797eb",
            "39846e18d26b4614a28f2d99dc981864",
            "e5da91f6b1f44389a094564868a9e9ab",
            "63c10003eddb49989ae91c66d5f2ae90",
            "03a6fd55ee504ea3a26253a9a8d642d9",
            "bba9ee718fed407bae6c0853c9b448dc",
            "7e274e1c6b114f2bab3c6bcfb90fc918",
            "7e50f07722af4aca8a609bf544ef9287",
            "2948869b672b4f4fb57c05400c6c3a48",
            "efdadd871f7740c8b1539761f2db5eea",
            "af416fe9cc4f4f3c8b168e4cf4b5b118",
            "79ef34fa6e2341d8b239e57ca1651185",
            "75c0239f11e640518dfe674efce99edb",
            "341750e5e7c04a8c8b86bb363ed2c757",
            "e41d8cc536744b98ac0bf8c8c16a985e",
            "d756f671e4304c14b33a984e7f03c07a",
            "b2b93f24189f41af86ab080b2473cb1c",
            "0c410dae644248e391fec112701eed0a",
            "2bd3f5187bb24dd5b39d4697a4d2db1f",
            "2123bb410e834185b77d21569ab81c60"
          ]
        },
        "id": "kn3R8yqpcgEE",
        "outputId": "e932da5b-9056-443d-dc1e-e02a3c60b940"
      },
      "execution_count": 37,
      "outputs": [
        {
          "output_type": "display_data",
          "data": {
            "text/plain": [
              "  0%|          | 0/10000 [00:00<?, ?it/s]"
            ],
            "application/vnd.jupyter.widget-view+json": {
              "version_major": 2,
              "version_minor": 0,
              "model_id": "0b011815cee14d2fa4fa20fe921de17a"
            }
          },
          "metadata": {}
        },
        {
          "output_type": "stream",
          "name": "stderr",
          "text": [
            "<ipython-input-37-c8db92cf8b8f>:33: ComplexWarning: Casting complex values to real discards the imaginary part\n",
            "  training_data[i][j] = noisy_probs[j]\n",
            "<ipython-input-37-c8db92cf8b8f>:34: ComplexWarning: Casting complex values to real discards the imaginary part\n",
            "  training_data[i][j+2**nQubit] = probs[j]\n"
          ]
        },
        {
          "output_type": "display_data",
          "data": {
            "text/plain": [
              "  0%|          | 0/200 [00:00<?, ?it/s]"
            ],
            "application/vnd.jupyter.widget-view+json": {
              "version_major": 2,
              "version_minor": 0,
              "model_id": "a4cb6d1bc2394565bbabfd732e66bbe7"
            }
          },
          "metadata": {}
        },
        {
          "output_type": "stream",
          "name": "stderr",
          "text": [
            "<ipython-input-37-c8db92cf8b8f>:43: ComplexWarning: Casting complex values to real discards the imaginary part\n",
            "  test_data[i][j] = noisy_probs[j]\n",
            "<ipython-input-37-c8db92cf8b8f>:44: ComplexWarning: Casting complex values to real discards the imaginary part\n",
            "  test_data[i][j+2**nQubit] = probs[j]\n"
          ]
        },
        {
          "output_type": "display_data",
          "data": {
            "text/plain": [
              "  0%|          | 0/300 [00:00<?, ?it/s]"
            ],
            "application/vnd.jupyter.widget-view+json": {
              "version_major": 2,
              "version_minor": 0,
              "model_id": "efdadd871f7740c8b1539761f2db5eea"
            }
          },
          "metadata": {}
        },
        {
          "output_type": "execute_result",
          "data": {
            "text/plain": [
              "Text(0.5, 0.98, 'Accuracy')"
            ]
          },
          "metadata": {},
          "execution_count": 37
        },
        {
          "output_type": "display_data",
          "data": {
            "text/plain": [
              "<Figure size 1800x600 with 3 Axes>"
            ],
            "image/png": "[encoded data removed]"
          },
          "metadata": {}
        }
      ]
    },
    {
      "cell_type": "code",
      "source": [
        "#trained_model_state2.apply_fn(trained_model_state2.params, batched_test_inp)-batched_test_tar_out\n",
        "matrix = trained_model_state2.params.unfreeze().get('params').get('Dense_0').get('kernel')\n",
        "print(matrix)\n",
        "#print(jnp.sum(jax.nn.softmax(matrix@batched_test_inp[0][2])-batched_test_tar_out[0][2]))"
      ],
      "metadata": {
        "colab": {
          "base_uri": "https://localhost:8080/"
        },
        "id": "ZjG1vnSC-1jz",
        "outputId": "dba46186-50a2-4d78-8c5c-95068d437a67"
      },
      "execution_count": 38,
      "outputs": [
        {
          "output_type": "stream",
          "name": "stdout",
          "text": [
            "[[ 3.0568814e+00 -1.6918005e-02 -4.2106002e-03 -3.0699134e+00]\n",
            " [-2.9535510e-03  3.0653179e+00 -3.0540168e+00 -6.5570901e-04]\n",
            " [ 4.4476897e-02 -3.0209911e+00  3.0890057e+00  3.1695344e-02]\n",
            " [-3.0363660e+00  2.1660278e-02  2.6038580e-02  3.0817752e+00]]\n"
          ]
        }
      ]
    },
    {
      "cell_type": "code",
      "source": [
        "jax.nn.softmax(matrix)"
      ],
      "metadata": {
        "colab": {
          "base_uri": "https://localhost:8080/"
        },
        "id": "2bWxyszBKuQ1",
        "outputId": "381f0123-eed0-4c36-f75f-6477acf47639"
      },
      "execution_count": 39,
      "outputs": [
        {
          "output_type": "execute_result",
          "data": {
            "text/plain": [
              "Array([[0.9130209 , 0.04222276, 0.04276272, 0.00199364],\n",
              "       [0.04245508, 0.91298366, 0.00200849, 0.04255275],\n",
              "       [0.04341396, 0.00202448, 0.911699  , 0.04286259],\n",
              "       [0.00200931, 0.04276909, 0.04295675, 0.91226494]], dtype=float32)"
            ]
          },
          "metadata": {},
          "execution_count": 39
        }
      ]
    },
    {
      "cell_type": "code",
      "source": [
        "print(jnp.sum(jax.nn.softmax(matrix)@batched_test_inp[0][2]))\n",
        "print(jnp.sum(jax.nn.softmax(matrix@batched_test_inp[0][2])))\n",
        "print(jnp.sum(matrix@batched_test_inp[0][2]))\n",
        "print(jnp.sum(matrix@batched_test_inp[0][2]/jnp.trace(matrix)))\n",
        "print(jnp.sum(matrix@batched_test_inp[0][2]/jax.scipy.linalg.det(matrix)))"
      ],
      "metadata": {
        "colab": {
          "base_uri": "https://localhost:8080/"
        },
        "id": "vEUO1dMSRR8D",
        "outputId": "6e8ff987-38b3-482c-922e-1ea748269db2"
      },
      "execution_count": 40,
      "outputs": [
        {
          "output_type": "stream",
          "name": "stdout",
          "text": [
            "0.9996227\n",
            "1.0000001\n",
            "0.056424618\n",
            "0.004589975\n",
            "9.464172\n"
          ]
        }
      ]
    }
  ]
}