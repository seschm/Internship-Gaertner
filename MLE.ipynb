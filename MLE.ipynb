{
  "cells": [
    {
      "cell_type": "markdown",
      "metadata": {
        "id": "view-in-github",
        "colab_type": "text"
      },
      "source": [
        "<a href=\"https://colab.research.google.com/github/seschm/Internship-Gaertner/blob/main/MLE.ipynb\" target=\"_parent\"><img src=\"https://colab.research.google.com/assets/colab-badge.svg\" alt=\"Open In Colab\"/></a>"
      ]
    },
    {
      "cell_type": "code",
      "execution_count": null,
      "metadata": {
        "id": "6jCNAd0EUGLL"
      },
      "outputs": [],
      "source": [
        "import numpy as np\n",
        "import scipy as sp\n",
        "import random as rng\n",
        "from tqdm.auto import tqdm\n",
        "from numpy import sqrt, cos, sin, exp, pi, log2\n",
        "from scipy.stats import unitary_group\n",
        "from scipy.stats import norm"
      ]
    },
    {
      "cell_type": "code",
      "execution_count": null,
      "metadata": {
        "id": "I9uhZIo0Deyg"
      },
      "outputs": [],
      "source": [
        "def MLE(nQubits,calibration_states,noisy_probabilities,POVM_ideal,p,samplesize):\n",
        "    '''\n",
        "    calibration_states: axis 0 = state, axis 1 = row, axis 2 = column\n",
        "    noisy_probabilities: axis 0 = state, axis 1 = probabilities\n",
        "    POVM_ideal / _reconstructed: axis 0 = element, axis 1 = row, axis 2 = column\n",
        "    numb_of_detections: axis 0 = POVM_element, axis 1 = states, values = counts\n",
        "    p_ideal: axis 0 = POVM_element, axis 1 = states, values = current ideal probability\n",
        "    fracs: axis 0 = POVM_element, axis 1 = states, values = fractions\n",
        "\n",
        "    '''\n",
        "\n",
        "    numb_of_detections = noisy_probabilities.T * samplesize\n",
        "\n",
        "    loop_num = 0\n",
        "    loop_max = 2*10**3\n",
        "    dist = 1\n",
        "    dist_min = 10**-9\n",
        "\n",
        "    POVM_reconstructed = np.array([p/2**nQubits*np.eye(2**nQubits) + (1-p)*POVM_elem for POVM_elem in POVM_ideal])\n",
        "\n",
        "    while loop_num < loop_max and dist > dist_min:\n",
        "\n",
        "        p_ideal = np.array([perform_multi_qubit_measurement(state,POVM_reconstructed) for state in calibration_states]).T\n",
        "        fracs = numb_of_detections/p_ideal\n",
        "\n",
        "        G = np.einsum('lm,ln,nij,ljk,mko->io',fracs,fracs,calibration_states,POVM_reconstructed,calibration_states)\n",
        "\n",
        "        eig_vals,U = sp.linalg.eig(G)\n",
        "        l_sqrt_inv = np.diag(1/np.sqrt(eig_vals))\n",
        "        l_inv = U@l_sqrt_inv@U.conj().T # -> why not as in paper: U_dagger L_sqrt U ???\n",
        "\n",
        "        R = np.einsum('ij,lm,mjk->lik',l_inv,fracs,calibration_states)\n",
        "\n",
        "        POVM_reconstruction_old = POVM_reconstructed\n",
        "        #POVM_reconstructed = np.einsum('lij,ljk,lkm->lim',R,POVM_reconstructed,R.conj().T)\n",
        "        POVM_reconstructed = np.einsum('lij,ljk,lmk->lim',R,POVM_reconstructed,R.conj())\n",
        "\n",
        "        dist = np.sum([np.linalg.norm(POVM_reconstructed-POVM_reconstruction_old)])\n",
        "\n",
        "        if loop_num % 50 == 0:\n",
        "            print(f'loop number: {loop_num}, distance: {dist}')\n",
        "\n",
        "        loop_num += 1\n",
        "\n",
        "    print(f'final loop number: {loop_num}, final distance: {dist}')\n",
        "\n",
        "    return POVM_reconstructed, dist"
      ]
    },
    {
      "cell_type": "code",
      "execution_count": null,
      "metadata": {
        "id": "rUWHlHz-EpfN"
      },
      "outputs": [],
      "source": [
        "def sampling(probabilities,samplesize):\n",
        "    \"\"\"\n",
        "    Takes in a probability distribution and samples from it.\n",
        "    \"\"\"\n",
        "    sampling = rng.choices(np.arange(0,len(probabilities)), weights=probabilities, k=samplesize)\n",
        "    sampled_probabilities = []\n",
        "    for element in np.arange(0,len(probabilities)):\n",
        "        sampled_probabilities.append(sampling.count(element)/samplesize)\n",
        "    return sampled_probabilities"
      ]
    },
    {
      "cell_type": "code",
      "execution_count": null,
      "metadata": {
        "id": "ByJg6LFhEsFc"
      },
      "outputs": [],
      "source": [
        "def perform_noisy_multi_qubit_measurement(state,POVM,p):\n",
        "    \"\"\"\n",
        "    Generates probabilities of the noisy state.\n",
        "    First applies the noise, then generates the probabilities.\n",
        "    \"\"\"\n",
        "    noisy_state = depolarizing_channel(state,p)\n",
        "    return perform_multi_qubit_measurement(noisy_state,POVM)"
      ]
    },
    {
      "cell_type": "code",
      "execution_count": null,
      "metadata": {
        "id": "1mhZQhxCEtqL"
      },
      "outputs": [],
      "source": [
        "def perform_multi_qubit_measurement(state,POVM):\n",
        "    \"\"\"\n",
        "    Performs a multi qubit measurement with the given POVM.\n",
        "    \"\"\"\n",
        "    probabilities = []\n",
        "    for element in POVM:\n",
        "        probabilities.append(np.trace(element@state))\n",
        "    return probabilities"
      ]
    },
    {
      "cell_type": "code",
      "execution_count": null,
      "metadata": {
        "id": "ck7ZDI3oEwXs"
      },
      "outputs": [],
      "source": [
        "def generate_POVM(theta,phi,nQubit):\n",
        "    \"\"\"\n",
        "    Generates a POVM consisting of multi qubit projectors on to the axis defined by the two angles theta and phi.\n",
        "    First generates all possible states (combinations of spin up and down) as strings containing 1s and 0s.\n",
        "    The order is equal to binary counting.\n",
        "    Then generates the single qubit projector and its orthogonal projector.\n",
        "    In the next step all single qubit projectors corresponding to the same state are gathered in the correct order and then tensored together to get an element of the POVM.\n",
        "    Returns the POVM with the elements beeing ordered equal to binary counting (-> up ... up, up ... up down, up ... up down up, ...).\n",
        "    \"\"\"\n",
        "    up_and_downs = []\n",
        "\n",
        "    for i in range(2**nQubit):\n",
        "        binary = bin(i)[2:]\n",
        "        zeros = np.zeros(nQubit-len(binary), dtype=int)\n",
        "        for k in range(nQubit-len(binary)):\n",
        "            binary = '0' + binary\n",
        "        up_and_downs.append(binary)\n",
        "\n",
        "    projector=generate_single_qubit(theta,phi)\n",
        "    orthogonal_projector = np.eye(2)-projector\n",
        "    POVM = []\n",
        "\n",
        "    for i in range(2**nQubit):\n",
        "        tensored_projector = []\n",
        "        single_projectors = []\n",
        "        for j in range(nQubit):\n",
        "            if up_and_downs[i][j] == '0':\n",
        "                single_projectors.append(projector)\n",
        "            if up_and_downs[i][j] == '1':\n",
        "                single_projectors.append(orthogonal_projector)\n",
        "        tensored_projector.append(single_projectors[0])\n",
        "        for k in range(nQubit-1):\n",
        "            tensored_projector.append(np.kron(tensored_projector[-1],single_projectors[k+1]))\n",
        "        POVM.append(tensored_projector[-1])\n",
        "\n",
        "    return POVM"
      ]
    },
    {
      "cell_type": "code",
      "execution_count": null,
      "metadata": {
        "id": "KXMlwF1vEyhK"
      },
      "outputs": [],
      "source": [
        "def depolarizing_channel(state,p):\n",
        "    \"\"\"\n",
        "    Applies a depolarizing channel to the given state with p the probability of the completely mixed state.\n",
        "    \"\"\"\n",
        "    d=len(state[0])\n",
        "    return p*np.eye(d)/d+(1-p)*state"
      ]
    },
    {
      "cell_type": "code",
      "execution_count": null,
      "metadata": {
        "id": "GoCypTD7E015"
      },
      "outputs": [],
      "source": [
        "def generate_random_seperable_pure_state(nQubit):\n",
        "    \"\"\"\n",
        "    Generates random seperable pure state.\n",
        "    First generate the desired number of random pure states.\n",
        "    Then tensor them together.\n",
        "    \"\"\"\n",
        "    single_qubits = []\n",
        "    for i in range(0,nQubit):\n",
        "        single_qubits.append(generate_random_pure_state(1))\n",
        "    tensored_qubits = [single_qubits[0]]\n",
        "    for i in range(1,nQubit):\n",
        "        tensored_qubits.append(np.kron(tensored_qubits[-1],single_qubits[i]))\n",
        "    return tensored_qubits[-1]"
      ]
    },
    {
      "cell_type": "code",
      "execution_count": null,
      "metadata": {
        "id": "d0EeLS9SE3XF"
      },
      "outputs": [],
      "source": [
        "def generate_single_qubit(theta,phi):\n",
        "    \"\"\"\n",
        "    Generates single qubit out of the given angles theta and phi.\n",
        "    First construct the single qubit state as an array of shape (2, 1).\n",
        "    Then compute the matrixproduct with its adjoint state.\n",
        "    \"\"\"\n",
        "    state = np.array([[cos(theta/2)],[sin(theta/2)*exp(phi*1.j)]])\n",
        "    return state@state.conj().T"
      ]
    },
    {
      "cell_type": "code",
      "execution_count": null,
      "metadata": {
        "id": "GzCMH-qDE5tg"
      },
      "outputs": [],
      "source": [
        "def generate_random_pure_state(nQubit):\n",
        "    \"\"\"\n",
        "    Generates Haar random pure state.\n",
        "    To generate a random pure state, take any basis state, e.g. |00...00>\n",
        "    and apply a random unitary matrix. For consistency each basis state should be the same.\n",
        "    \"\"\"\n",
        "    baseRho=np.zeros((2**nQubit,2**nQubit),dtype=complex)\n",
        "    baseRho[0,0]=1\n",
        "    U=unitary_group.rvs(2**nQubit)\n",
        "    return U@baseRho@U.conj().T"
      ]
    },
    {
      "cell_type": "code",
      "source": [
        "def accuracy_MSE(acc_input, acc_target_output,nQubit):\n",
        "  acc = np.mean(np.sum(np.abs(acc_input-acc_target_output)**2,axis=2)/(2**nQubit))\n",
        "  return acc"
      ],
      "metadata": {
        "id": "L_l2i0-LDH3F"
      },
      "execution_count": null,
      "outputs": []
    },
    {
      "cell_type": "code",
      "source": [
        "def accuracy_KLD(acc_input, acc_target_output):\n",
        "  acc = np.mean(np.sum(acc_target_output*np.log(acc_target_output/acc_input),axis=2))\n",
        "  return acc"
      ],
      "metadata": {
        "id": "twB5yzO1DOeB"
      },
      "execution_count": null,
      "outputs": []
    },
    {
      "cell_type": "code",
      "source": [
        "def accuracy_IF(acc_input, acc_target_output):\n",
        "  acc = np.mean(1-(np.sum(np.sqrt(acc_target_output*acc_input),axis=2))**2)\n",
        "  return acc"
      ],
      "metadata": {
        "id": "6i5w7xPPDUHz"
      },
      "execution_count": null,
      "outputs": []
    },
    {
      "cell_type": "code",
      "execution_count": null,
      "metadata": {
        "colab": {
          "base_uri": "https://localhost:8080/"
        },
        "id": "hw4NJoFsFPcX",
        "outputId": "5f97df1f-aadd-46f4-a6ef-32da58c955f0"
      },
      "outputs": [
        {
          "output_type": "stream",
          "name": "stderr",
          "text": [
            "/usr/lib/python3.10/random.py:536: ComplexWarning: Casting complex values to real discards the imaginary part\n",
            "  if not _isfinite(total):\n"
          ]
        },
        {
          "output_type": "stream",
          "name": "stdout",
          "text": [
            "loop number: 0, distance: 0.020856877517224516\n",
            "loop number: 50, distance: 9.158349319907202e-05\n",
            "loop number: 100, distance: 1.030466355050956e-05\n",
            "loop number: 150, distance: 1.5251826406592527e-06\n",
            "loop number: 200, distance: 2.547408036114234e-07\n",
            "loop number: 250, distance: 4.533249224739167e-08\n",
            "loop number: 300, distance: 8.358183990540306e-09\n",
            "loop number: 350, distance: 1.5769797525740386e-09\n",
            "final loop number: 365, final distance: 9.91901444674732e-10\n"
          ]
        }
      ],
      "source": [
        "nQubit = 2\n",
        "training_states = 100\n",
        "theta = 0\n",
        "phi = 0\n",
        "p = 0.15\n",
        "samplesize = 1000\n",
        "\n",
        "POVM = generate_POVM(theta,phi,nQubit)\n",
        "calib = []\n",
        "pro = []\n",
        "\n",
        "for i in range(training_states):\n",
        "    state = generate_random_seperable_pure_state(nQubit)\n",
        "    calib.append(state)\n",
        "    noisy_probs = perform_noisy_multi_qubit_measurement(state,POVM,p)\n",
        "    noisy_probs_sampled = sampling(noisy_probs,samplesize)\n",
        "    pro.append(noisy_probs_sampled)\n",
        "\n",
        "\n",
        "calibration_states = np.asarray(calib)\n",
        "noisy_probabilities = np.asarray(pro)\n",
        "\n",
        "P, dist = MLE(nQubit,calibration_states,noisy_probabilities,POVM,p,samplesize)"
      ]
    },
    {
      "cell_type": "code",
      "source": [
        "def linear_inversion(nQubit,calibration_states,noisy_probabilities,POVM,p,samplesize):\n",
        "    '''\n",
        "    #,probabilities,test_input,test_target_output\n",
        "    '''\n",
        "\n",
        "    #POVMs = []\n",
        "\n",
        "    #for i in range(len(states)):\n",
        "    #    P, dist = MLE(nQubit,calibration_states[i],noisy_probabilities[i],POVM,p,samplesize)\n",
        "    #    POVMs.append(P)\n",
        "\n",
        "    #POVM_recon = []\n",
        "    POVM_recon, dist = MLE(nQubit,calibration_states,noisy_probabilities,POVM,p,samplesize)\n",
        "\n",
        "    L = np.zeros((2**nQubit,2**nQubit))\n",
        "\n",
        "    #print(np.shape(L))\n",
        "    #print(np.shape(POVM_recon))\n",
        "    #print(POVM_recon)\n",
        "    for i in range(2**nQubit):\n",
        "        for j in range(2**nQubit):\n",
        "            L[j][i] = POVM_recon[i][j][j]\n",
        "\n",
        "    L_inv = np.linalg.inv(L)\n",
        "    print(np.shape(L_inv))\n",
        "    print(np.shape(noisy_probabilities))\n",
        "\n",
        "    #probs_cor = np.einsum('ij,klj->kli',L_inv,test_input)\n",
        "    probs_cor_tr = np.einsum('ij,lj->li',L_inv,noisy_probabilities)\n",
        "\n",
        "    #acc_MSE = accuracy_MSE(test_input, test_target_output,nQubit)\n",
        "    #acc_MSE_tr = accuracy_MSE(probs_cor, probabilities,nQubit)\n",
        "\n",
        "    #acc_KLD = accuracy_KLD(test_input, test_target_output,nQubit)\n",
        "    #acc_KLD_tr = accuracy_KLD(probs_cor, probabilities,nQubit)\n",
        "\n",
        "    #acc_IF = accuracy_IF(test_input, test_target_output,nQubit)\n",
        "    #acc_IF_tr = accuracy_IF(probs_cor, probabilities,nQubit)\n",
        "\n",
        "    return probs_cor_tr#probs_cor, [acc_MSE,acc_MSE_tr], [acc_KLD,acc_KLD_tr], [acc_IF,acc_IF_tr]"
      ],
      "metadata": {
        "id": "0jY7BCSB-dSL"
      },
      "execution_count": null,
      "outputs": []
    }
  ],
  "metadata": {
    "colab": {
      "provenance": [],
      "authorship_tag": "ABX9TyPBQqaFp+2HjRbARuJNz9ch",
      "include_colab_link": true
    },
    "kernelspec": {
      "display_name": "Python 3",
      "name": "python3"
    },
    "language_info": {
      "name": "python"
    }
  },
  "nbformat": 4,
  "nbformat_minor": 0
}